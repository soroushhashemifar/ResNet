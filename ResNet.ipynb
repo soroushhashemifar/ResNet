{
  "nbformat": 4,
  "nbformat_minor": 0,
  "metadata": {
    "colab": {
      "name": "ResNet.ipynb",
      "version": "0.3.2",
      "provenance": [],
      "collapsed_sections": []
    },
    "kernelspec": {
      "name": "python3",
      "display_name": "Python 3"
    },
    "accelerator": "GPU"
  },
  "cells": [
    {
      "metadata": {
        "id": "_VNIiwvolRAh",
        "colab_type": "code",
        "colab": {}
      },
      "cell_type": "code",
      "source": [
        "from keras.datasets import cifar10, cifar100\n",
        "from keras.models import Model\n",
        "from keras.optimizers import RMSprop, Adam\n",
        "from keras import layers\n",
        "from keras.utils import to_categorical"
      ],
      "execution_count": 0,
      "outputs": []
    },
    {
      "metadata": {
        "id": "Q4XlIgDd2FXk",
        "colab_type": "code",
        "colab": {}
      },
      "cell_type": "code",
      "source": [
        "def residual_block(x, channels, strides=(1,1), first_block=False):\n",
        "  shortcut_link = x\n",
        "  \n",
        "  x = layers.Conv2D(channels[0], (1,1), strides=strides, padding='valid')(x)\n",
        "  x = layers.BatchNormalization(axis=3)(x)\n",
        "  x = layers.Activation('relu')(x)\n",
        "  \n",
        "  x = layers.Conv2D(channels[1], (3,3), padding='same')(x)\n",
        "  x = layers.BatchNormalization(axis=3)(x)\n",
        "  x = layers.Activation('relu')(x)\n",
        "  \n",
        "  x = layers.Conv2D(channels[2], (1,1), padding='valid')(x)\n",
        "  x = layers.BatchNormalization(axis=3)(x)\n",
        "  \n",
        "  if first_block:\n",
        "    shortcut_link = layers.Conv2D(channels[2], (1,1), strides=strides, padding='same')(shortcut_link)\n",
        "    shortcut_link = layers.BatchNormalization(axis=3)(shortcut_link)\n",
        "  \n",
        "  x = layers.Add()([x, shortcut_link])\n",
        "  x = layers.Activation('relu')(x)\n",
        "  \n",
        "  return x"
      ],
      "execution_count": 0,
      "outputs": []
    },
    {
      "metadata": {
        "id": "DfK4fN31lWwa",
        "colab_type": "code",
        "colab": {}
      },
      "cell_type": "code",
      "source": [
        "def ResNet(input_shape, num_classes):  \n",
        "  x_input = layers.Input(input_shape)\n",
        "  \n",
        "  x = layers.ZeroPadding2D((224-input_shape[0],224-input_shape[0]))(x_input) # output: 224,224,3\n",
        "  \n",
        "  x = layers.Conv2D(64, (7,7), strides=(2,2), padding='same')(x) # output: 224,224,64\n",
        "  x = layers.BatchNormalization(axis=3)(x)\n",
        "  x = layers.Activation('relu')(x)\n",
        "  \n",
        "  x = layers.MaxPooling2D((3, 3), strides=(2, 2), padding='same')(x) # output: 224,224,64\n",
        "  \n",
        "  x = residual_block(x, channels=[64, 64, 256], first_block=True) # 54,54,256\n",
        "  x = residual_block(x, channels=[64, 64, 256]) # 54,54,256\n",
        "  x = residual_block(x, channels=[64, 64, 256]) # 54,54,256\n",
        "  \n",
        "  x = residual_block(x, channels=[128, 128, 512], strides=(2,2), first_block=True) # 25,25,512\n",
        "  x = residual_block(x, channels=[128, 128, 512])\n",
        "  x = residual_block(x, channels=[128, 128, 512])\n",
        "  x = residual_block(x, channels=[128, 128, 512])\n",
        "  \n",
        "  x = residual_block(x, channels=[256, 256, 1024], strides=(2,2), first_block=True)\n",
        "  x = residual_block(x, channels=[256, 256, 1024])\n",
        "  x = residual_block(x, channels=[256, 256, 1024])\n",
        "  x = residual_block(x, channels=[256, 256, 1024])\n",
        "  x = residual_block(x, channels=[256, 256, 1024])\n",
        "  x = residual_block(x, channels=[256, 256, 1024])\n",
        "  \n",
        "  x = residual_block(x, channels=[512, 512, 2048], strides=(2,2), first_block=True)\n",
        "  x = residual_block(x, channels=[512, 512, 2048])\n",
        "  x = residual_block(x, channels=[512, 512, 2048])\n",
        "  x = residual_block(x, channels=[512, 512, 2048])\n",
        "  x = residual_block(x, channels=[512, 512, 2048])\n",
        "  x = residual_block(x, channels=[512, 512, 2048])\n",
        "  x = residual_block(x, channels=[512, 512, 2048])\n",
        "  x = residual_block(x, channels=[512, 512, 2048])\n",
        "  \n",
        "  x = residual_block(x, channels=[512, 512, 2048], strides=(2,2), first_block=True)\n",
        "  x = residual_block(x, channels=[512, 512, 2048])\n",
        "  x = residual_block(x, channels=[512, 512, 2048])\n",
        "  x = residual_block(x, channels=[512, 512, 2048])\n",
        "  x = residual_block(x, channels=[512, 512, 2048])\n",
        "  x = residual_block(x, channels=[512, 512, 2048])\n",
        "  x = residual_block(x, channels=[512, 512, 2048])\n",
        "  x = residual_block(x, channels=[512, 512, 2048])\n",
        "  x = residual_block(x, channels=[512, 512, 2048])\n",
        "  x = residual_block(x, channels=[512, 512, 2048])\n",
        "  \n",
        "#   x = residual_block_first(x, channels=[2048, 2048, 8192], strides=(2,2))\n",
        "#   x = residual_block(x, channels=[2048, 2048, 8192])\n",
        "#   x = residual_block(x, channels=[2048, 2048, 8192])\n",
        "#   x = residual_block(x, channels=[2048, 2048, 8192])\n",
        "#   x = residual_block(x, channels=[2048, 2048, 8192])\n",
        "#   x = residual_block(x, channels=[2048, 2048, 8192])\n",
        "#   x = residual_block(x, channels=[2048, 2048, 8192])\n",
        "#   x = residual_block(x, channels=[2048, 2048, 8192])\n",
        "#   x = residual_block(x, channels=[2048, 2048, 8192])\n",
        "#   x = residual_block(x, channels=[2048, 2048, 8192])\n",
        "#   x = residual_block(x, channels=[2048, 2048, 8192])\n",
        "#   x = residual_block(x, channels=[2048, 2048, 8192])\n",
        "  \n",
        "  x = residual_block(x, channels=[1024, 1024, 4096], strides=(2,2), first_block=True)\n",
        "  x = residual_block(x, channels=[1024, 1024, 4096])\n",
        "  x = residual_block(x, channels=[1024, 1024, 4096])\n",
        "  \n",
        "  x = layers.AveragePooling2D(pool_size=(2,2))(x)\n",
        "  \n",
        "  x = layers.Flatten()(x)\n",
        "  x = layers.Dense(512, activation='relu')(x)\n",
        "  x = layers.Dense(512, activation='relu')(x)\n",
        "  x = layers.Dense(num_classes, activation='softmax')(x)\n",
        "  \n",
        "  model = Model(inputs=[x_input], outputs=[x])\n",
        "  \n",
        "  return model"
      ],
      "execution_count": 0,
      "outputs": []
    },
    {
      "metadata": {
        "id": "4AaAIlMV3eft",
        "colab_type": "code",
        "colab": {}
      },
      "cell_type": "code",
      "source": [
        "(x_train, y_train), (x_test, y_test) = cifar10.load_data()\n",
        "# (x_train, y_train), (x_test, y_test) = cifar100.load_data()\n",
        "\n",
        "x_train, y_train, x_test, y_test = x_train / 255, y_train, x_test / 255, y_test\n",
        "\n",
        "print(x_train.shape, y_train.shape, x_test.shape, y_test.shape)\n",
        "\n",
        "y_train = to_categorical(y_train)\n",
        "y_test = to_categorical(y_test)"
      ],
      "execution_count": 0,
      "outputs": []
    },
    {
      "metadata": {
        "id": "3MzThMNX3sqF",
        "colab_type": "code",
        "colab": {}
      },
      "cell_type": "code",
      "source": [
        "model = ResNet(input_shape=(32,32,3), num_classes=10)\n",
        "\n",
        "model.compile(optimizer=Adam(lr=0.000001),\n",
        "              loss='categorical_crossentropy',\n",
        "              metrics=['accuracy'])\n",
        "\n",
        "model.fit(x_train, y_train, epochs=100, batch_size=8, validation_split=0.1)"
      ],
      "execution_count": 0,
      "outputs": []
    }
  ]
}